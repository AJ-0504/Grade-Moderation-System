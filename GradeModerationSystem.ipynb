{
  "cells": [
    {
      "cell_type": "markdown",
      "metadata": {
        "id": "view-in-github",
        "colab_type": "text"
      },
      "source": [
        "<a href=\"https://colab.research.google.com/github/AJ-0504/Grade-Moderation-System/blob/main/GradeModerationSystem.ipynb\" target=\"_parent\"><img src=\"https://colab.research.google.com/assets/colab-badge.svg\" alt=\"Open In Colab\"/></a>"
      ]
    },
    {
      "cell_type": "code",
      "execution_count": 1,
      "id": "1b3dbe23",
      "metadata": {
        "id": "1b3dbe23"
      },
      "outputs": [],
      "source": [
        "import numpy as np\n",
        "import pandas as pd\n",
        "import matplotlib.pyplot as plt\n",
        "%matplotlib inline\n",
        "import seaborn as sns"
      ]
    },
    {
      "cell_type": "code",
      "execution_count": 3,
      "id": "7541ef83",
      "metadata": {
        "id": "7541ef83"
      },
      "outputs": [],
      "source": [
        "path='/content/student-scores.csv'\n",
        "df=pd.read_csv(path)"
      ]
    },
    {
      "cell_type": "code",
      "execution_count": null,
      "id": "7822eb40",
      "metadata": {
        "id": "7822eb40",
        "outputId": "9aa593d0-6716-4500-898b-3ce96b4699d1"
      },
      "outputs": [
        {
          "data": {
            "text/html": [
              "<div>\n",
              "<style scoped>\n",
              "    .dataframe tbody tr th:only-of-type {\n",
              "        vertical-align: middle;\n",
              "    }\n",
              "\n",
              "    .dataframe tbody tr th {\n",
              "        vertical-align: top;\n",
              "    }\n",
              "\n",
              "    .dataframe thead th {\n",
              "        text-align: right;\n",
              "    }\n",
              "</style>\n",
              "<table border=\"1\" class=\"dataframe\">\n",
              "  <thead>\n",
              "    <tr style=\"text-align: right;\">\n",
              "      <th></th>\n",
              "      <th>id</th>\n",
              "      <th>section</th>\n",
              "      <th>gender</th>\n",
              "      <th>part_time_job</th>\n",
              "      <th>absence_days</th>\n",
              "      <th>extracurricular_activities</th>\n",
              "      <th>weekly_self_study_hours</th>\n",
              "      <th>dsml</th>\n",
              "      <th>aisc</th>\n",
              "      <th>iss</th>\n",
              "      <th>pe</th>\n",
              "      <th>se</th>\n",
              "      <th>total score</th>\n",
              "    </tr>\n",
              "  </thead>\n",
              "  <tbody>\n",
              "    <tr>\n",
              "      <th>0</th>\n",
              "      <td>219001001</td>\n",
              "      <td>E</td>\n",
              "      <td>male</td>\n",
              "      <td>False</td>\n",
              "      <td>3</td>\n",
              "      <td>False</td>\n",
              "      <td>27</td>\n",
              "      <td>73</td>\n",
              "      <td>93</td>\n",
              "      <td>97</td>\n",
              "      <td>80</td>\n",
              "      <td>87</td>\n",
              "      <td>430</td>\n",
              "    </tr>\n",
              "    <tr>\n",
              "      <th>1</th>\n",
              "      <td>219001002</td>\n",
              "      <td>B</td>\n",
              "      <td>female</td>\n",
              "      <td>False</td>\n",
              "      <td>2</td>\n",
              "      <td>False</td>\n",
              "      <td>47</td>\n",
              "      <td>90</td>\n",
              "      <td>96</td>\n",
              "      <td>100</td>\n",
              "      <td>88</td>\n",
              "      <td>90</td>\n",
              "      <td>464</td>\n",
              "    </tr>\n",
              "    <tr>\n",
              "      <th>2</th>\n",
              "      <td>219001003</td>\n",
              "      <td>F</td>\n",
              "      <td>female</td>\n",
              "      <td>False</td>\n",
              "      <td>9</td>\n",
              "      <td>True</td>\n",
              "      <td>13</td>\n",
              "      <td>81</td>\n",
              "      <td>95</td>\n",
              "      <td>96</td>\n",
              "      <td>77</td>\n",
              "      <td>94</td>\n",
              "      <td>443</td>\n",
              "    </tr>\n",
              "    <tr>\n",
              "      <th>3</th>\n",
              "      <td>219001004</td>\n",
              "      <td>A</td>\n",
              "      <td>female</td>\n",
              "      <td>False</td>\n",
              "      <td>5</td>\n",
              "      <td>False</td>\n",
              "      <td>3</td>\n",
              "      <td>71</td>\n",
              "      <td>88</td>\n",
              "      <td>80</td>\n",
              "      <td>63</td>\n",
              "      <td>86</td>\n",
              "      <td>388</td>\n",
              "    </tr>\n",
              "    <tr>\n",
              "      <th>4</th>\n",
              "      <td>219001005</td>\n",
              "      <td>F</td>\n",
              "      <td>male</td>\n",
              "      <td>False</td>\n",
              "      <td>5</td>\n",
              "      <td>False</td>\n",
              "      <td>10</td>\n",
              "      <td>84</td>\n",
              "      <td>65</td>\n",
              "      <td>65</td>\n",
              "      <td>74</td>\n",
              "      <td>76</td>\n",
              "      <td>364</td>\n",
              "    </tr>\n",
              "  </tbody>\n",
              "</table>\n",
              "</div>"
            ],
            "text/plain": [
              "          id section  gender  part_time_job  absence_days  \\\n",
              "0  219001001       E    male          False             3   \n",
              "1  219001002       B  female          False             2   \n",
              "2  219001003       F  female          False             9   \n",
              "3  219001004       A  female          False             5   \n",
              "4  219001005       F    male          False             5   \n",
              "\n",
              "   extracurricular_activities  weekly_self_study_hours  dsml  aisc  iss  pe  \\\n",
              "0                       False                       27    73    93   97  80   \n",
              "1                       False                       47    90    96  100  88   \n",
              "2                        True                       13    81    95   96  77   \n",
              "3                       False                        3    71    88   80  63   \n",
              "4                       False                       10    84    65   65  74   \n",
              "\n",
              "   se  total score  \n",
              "0  87          430  \n",
              "1  90          464  \n",
              "2  94          443  \n",
              "3  86          388  \n",
              "4  76          364  "
            ]
          },
          "execution_count": 3,
          "metadata": {},
          "output_type": "execute_result"
        }
      ],
      "source": [
        "df.head()"
      ]
    },
    {
      "cell_type": "code",
      "execution_count": null,
      "id": "c83090bb",
      "metadata": {
        "id": "c83090bb",
        "outputId": "377c4f41-bd41-4b2a-f200-e248ea5ade8a"
      },
      "outputs": [
        {
          "data": {
            "text/plain": [
              "(2000, 13)"
            ]
          },
          "execution_count": 4,
          "metadata": {},
          "output_type": "execute_result"
        }
      ],
      "source": [
        "df.shape"
      ]
    },
    {
      "cell_type": "code",
      "execution_count": null,
      "id": "30cd72cd",
      "metadata": {
        "id": "30cd72cd",
        "outputId": "44573ae9-7aa4-4ed1-e7df-bf0ea9d0ee0d"
      },
      "outputs": [
        {
          "name": "stdout",
          "output_type": "stream",
          "text": [
            "<class 'pandas.core.frame.DataFrame'>\n",
            "RangeIndex: 2000 entries, 0 to 1999\n",
            "Data columns (total 13 columns):\n",
            " #   Column                      Non-Null Count  Dtype \n",
            "---  ------                      --------------  ----- \n",
            " 0   id                          2000 non-null   int64 \n",
            " 1   section                     2000 non-null   object\n",
            " 2   gender                      2000 non-null   object\n",
            " 3   part_time_job               2000 non-null   bool  \n",
            " 4   absence_days                2000 non-null   int64 \n",
            " 5   extracurricular_activities  2000 non-null   bool  \n",
            " 6   weekly_self_study_hours     2000 non-null   int64 \n",
            " 7   dsml                        2000 non-null   int64 \n",
            " 8   aisc                        2000 non-null   int64 \n",
            " 9   iss                         2000 non-null   int64 \n",
            " 10  pe                          2000 non-null   int64 \n",
            " 11  se                          2000 non-null   int64 \n",
            " 12  total score                 2000 non-null   int64 \n",
            "dtypes: bool(2), int64(9), object(2)\n",
            "memory usage: 175.9+ KB\n"
          ]
        }
      ],
      "source": [
        "df.info()"
      ]
    },
    {
      "cell_type": "code",
      "execution_count": null,
      "id": "35b3e2b9",
      "metadata": {
        "scrolled": true,
        "id": "35b3e2b9",
        "outputId": "8d471da0-cdb1-484b-d214-33cb7436788b"
      },
      "outputs": [
        {
          "data": {
            "text/html": [
              "<div>\n",
              "<style scoped>\n",
              "    .dataframe tbody tr th:only-of-type {\n",
              "        vertical-align: middle;\n",
              "    }\n",
              "\n",
              "    .dataframe tbody tr th {\n",
              "        vertical-align: top;\n",
              "    }\n",
              "\n",
              "    .dataframe thead th {\n",
              "        text-align: right;\n",
              "    }\n",
              "</style>\n",
              "<table border=\"1\" class=\"dataframe\">\n",
              "  <thead>\n",
              "    <tr style=\"text-align: right;\">\n",
              "      <th></th>\n",
              "      <th>id</th>\n",
              "      <th>section</th>\n",
              "      <th>gender</th>\n",
              "      <th>part_time_job</th>\n",
              "      <th>absence_days</th>\n",
              "      <th>extracurricular_activities</th>\n",
              "      <th>weekly_self_study_hours</th>\n",
              "      <th>dsml</th>\n",
              "      <th>aisc</th>\n",
              "      <th>iss</th>\n",
              "      <th>pe</th>\n",
              "      <th>se</th>\n",
              "      <th>total score</th>\n",
              "    </tr>\n",
              "  </thead>\n",
              "  <tbody>\n",
              "    <tr>\n",
              "      <th>0</th>\n",
              "      <td>219001001</td>\n",
              "      <td>E</td>\n",
              "      <td>male</td>\n",
              "      <td>False</td>\n",
              "      <td>3</td>\n",
              "      <td>False</td>\n",
              "      <td>27</td>\n",
              "      <td>73</td>\n",
              "      <td>93</td>\n",
              "      <td>97</td>\n",
              "      <td>80</td>\n",
              "      <td>87</td>\n",
              "      <td>430</td>\n",
              "    </tr>\n",
              "    <tr>\n",
              "      <th>1</th>\n",
              "      <td>219001002</td>\n",
              "      <td>B</td>\n",
              "      <td>female</td>\n",
              "      <td>False</td>\n",
              "      <td>2</td>\n",
              "      <td>False</td>\n",
              "      <td>47</td>\n",
              "      <td>90</td>\n",
              "      <td>96</td>\n",
              "      <td>100</td>\n",
              "      <td>88</td>\n",
              "      <td>90</td>\n",
              "      <td>464</td>\n",
              "    </tr>\n",
              "    <tr>\n",
              "      <th>2</th>\n",
              "      <td>219001003</td>\n",
              "      <td>F</td>\n",
              "      <td>female</td>\n",
              "      <td>False</td>\n",
              "      <td>9</td>\n",
              "      <td>True</td>\n",
              "      <td>13</td>\n",
              "      <td>81</td>\n",
              "      <td>95</td>\n",
              "      <td>96</td>\n",
              "      <td>77</td>\n",
              "      <td>94</td>\n",
              "      <td>443</td>\n",
              "    </tr>\n",
              "    <tr>\n",
              "      <th>3</th>\n",
              "      <td>219001004</td>\n",
              "      <td>A</td>\n",
              "      <td>female</td>\n",
              "      <td>False</td>\n",
              "      <td>5</td>\n",
              "      <td>False</td>\n",
              "      <td>3</td>\n",
              "      <td>71</td>\n",
              "      <td>88</td>\n",
              "      <td>80</td>\n",
              "      <td>63</td>\n",
              "      <td>86</td>\n",
              "      <td>388</td>\n",
              "    </tr>\n",
              "    <tr>\n",
              "      <th>4</th>\n",
              "      <td>219001005</td>\n",
              "      <td>F</td>\n",
              "      <td>male</td>\n",
              "      <td>False</td>\n",
              "      <td>5</td>\n",
              "      <td>False</td>\n",
              "      <td>10</td>\n",
              "      <td>84</td>\n",
              "      <td>65</td>\n",
              "      <td>65</td>\n",
              "      <td>74</td>\n",
              "      <td>76</td>\n",
              "      <td>364</td>\n",
              "    </tr>\n",
              "  </tbody>\n",
              "</table>\n",
              "</div>"
            ],
            "text/plain": [
              "          id section  gender  part_time_job  absence_days  \\\n",
              "0  219001001       E    male          False             3   \n",
              "1  219001002       B  female          False             2   \n",
              "2  219001003       F  female          False             9   \n",
              "3  219001004       A  female          False             5   \n",
              "4  219001005       F    male          False             5   \n",
              "\n",
              "   extracurricular_activities  weekly_self_study_hours  dsml  aisc  iss  pe  \\\n",
              "0                       False                       27    73    93   97  80   \n",
              "1                       False                       47    90    96  100  88   \n",
              "2                        True                       13    81    95   96  77   \n",
              "3                       False                        3    71    88   80  63   \n",
              "4                       False                       10    84    65   65  74   \n",
              "\n",
              "   se  total score  \n",
              "0  87          430  \n",
              "1  90          464  \n",
              "2  94          443  \n",
              "3  86          388  \n",
              "4  76          364  "
            ]
          },
          "execution_count": 6,
          "metadata": {},
          "output_type": "execute_result"
        }
      ],
      "source": [
        "df.head()"
      ]
    },
    {
      "cell_type": "code",
      "execution_count": null,
      "id": "b03e72a8",
      "metadata": {
        "id": "b03e72a8",
        "outputId": "f2dda8d6-784e-4d84-a128-8431856de3d9"
      },
      "outputs": [
        {
          "data": {
            "text/plain": [
              "id                            0\n",
              "section                       0\n",
              "gender                        0\n",
              "part_time_job                 0\n",
              "absence_days                  0\n",
              "extracurricular_activities    0\n",
              "weekly_self_study_hours       0\n",
              "dsml                          0\n",
              "aisc                          0\n",
              "iss                           0\n",
              "pe                            0\n",
              "se                            0\n",
              "total score                   0\n",
              "dtype: int64"
            ]
          },
          "execution_count": 7,
          "metadata": {},
          "output_type": "execute_result"
        }
      ],
      "source": [
        "pd.isnull(df).sum()"
      ]
    },
    {
      "cell_type": "code",
      "execution_count": null,
      "id": "3aa0b007",
      "metadata": {
        "id": "3aa0b007",
        "outputId": "90346376-6aa0-4336-b5f3-49957c2bedac"
      },
      "outputs": [
        {
          "data": {
            "text/html": [
              "<div>\n",
              "<style scoped>\n",
              "    .dataframe tbody tr th:only-of-type {\n",
              "        vertical-align: middle;\n",
              "    }\n",
              "\n",
              "    .dataframe tbody tr th {\n",
              "        vertical-align: top;\n",
              "    }\n",
              "\n",
              "    .dataframe thead th {\n",
              "        text-align: right;\n",
              "    }\n",
              "</style>\n",
              "<table border=\"1\" class=\"dataframe\">\n",
              "  <thead>\n",
              "    <tr style=\"text-align: right;\">\n",
              "      <th></th>\n",
              "      <th>id</th>\n",
              "      <th>absence_days</th>\n",
              "      <th>weekly_self_study_hours</th>\n",
              "      <th>dsml</th>\n",
              "      <th>aisc</th>\n",
              "      <th>iss</th>\n",
              "      <th>pe</th>\n",
              "      <th>se</th>\n",
              "      <th>total score</th>\n",
              "    </tr>\n",
              "  </thead>\n",
              "  <tbody>\n",
              "    <tr>\n",
              "      <th>count</th>\n",
              "      <td>2.000000e+03</td>\n",
              "      <td>2000.000000</td>\n",
              "      <td>2000.000000</td>\n",
              "      <td>2000.000000</td>\n",
              "      <td>2000.000000</td>\n",
              "      <td>2000.000000</td>\n",
              "      <td>2000.000000</td>\n",
              "      <td>2000.000000</td>\n",
              "      <td>2000.000000</td>\n",
              "    </tr>\n",
              "    <tr>\n",
              "      <th>mean</th>\n",
              "      <td>2.190020e+08</td>\n",
              "      <td>3.665500</td>\n",
              "      <td>17.755500</td>\n",
              "      <td>83.452000</td>\n",
              "      <td>81.336500</td>\n",
              "      <td>79.995000</td>\n",
              "      <td>81.277500</td>\n",
              "      <td>80.888000</td>\n",
              "      <td>406.949000</td>\n",
              "    </tr>\n",
              "    <tr>\n",
              "      <th>std</th>\n",
              "      <td>5.774946e+02</td>\n",
              "      <td>2.629271</td>\n",
              "      <td>12.129604</td>\n",
              "      <td>13.224906</td>\n",
              "      <td>12.539453</td>\n",
              "      <td>12.777895</td>\n",
              "      <td>12.027087</td>\n",
              "      <td>11.637705</td>\n",
              "      <td>32.597956</td>\n",
              "    </tr>\n",
              "    <tr>\n",
              "      <th>min</th>\n",
              "      <td>2.190010e+08</td>\n",
              "      <td>0.000000</td>\n",
              "      <td>0.000000</td>\n",
              "      <td>40.000000</td>\n",
              "      <td>50.000000</td>\n",
              "      <td>50.000000</td>\n",
              "      <td>50.000000</td>\n",
              "      <td>60.000000</td>\n",
              "      <td>282.000000</td>\n",
              "    </tr>\n",
              "    <tr>\n",
              "      <th>25%</th>\n",
              "      <td>2.190015e+08</td>\n",
              "      <td>2.000000</td>\n",
              "      <td>5.000000</td>\n",
              "      <td>77.000000</td>\n",
              "      <td>71.000000</td>\n",
              "      <td>69.000000</td>\n",
              "      <td>72.000000</td>\n",
              "      <td>71.000000</td>\n",
              "      <td>387.000000</td>\n",
              "    </tr>\n",
              "    <tr>\n",
              "      <th>50%</th>\n",
              "      <td>2.190020e+08</td>\n",
              "      <td>3.000000</td>\n",
              "      <td>18.000000</td>\n",
              "      <td>87.000000</td>\n",
              "      <td>83.000000</td>\n",
              "      <td>81.000000</td>\n",
              "      <td>83.000000</td>\n",
              "      <td>81.000000</td>\n",
              "      <td>408.000000</td>\n",
              "    </tr>\n",
              "    <tr>\n",
              "      <th>75%</th>\n",
              "      <td>2.190025e+08</td>\n",
              "      <td>5.000000</td>\n",
              "      <td>28.000000</td>\n",
              "      <td>93.000000</td>\n",
              "      <td>92.000000</td>\n",
              "      <td>91.000000</td>\n",
              "      <td>91.000000</td>\n",
              "      <td>91.000000</td>\n",
              "      <td>428.000000</td>\n",
              "    </tr>\n",
              "    <tr>\n",
              "      <th>max</th>\n",
              "      <td>2.190030e+08</td>\n",
              "      <td>10.000000</td>\n",
              "      <td>50.000000</td>\n",
              "      <td>100.000000</td>\n",
              "      <td>100.000000</td>\n",
              "      <td>100.000000</td>\n",
              "      <td>99.000000</td>\n",
              "      <td>100.000000</td>\n",
              "      <td>485.000000</td>\n",
              "    </tr>\n",
              "  </tbody>\n",
              "</table>\n",
              "</div>"
            ],
            "text/plain": [
              "                 id  absence_days  weekly_self_study_hours         dsml  \\\n",
              "count  2.000000e+03   2000.000000              2000.000000  2000.000000   \n",
              "mean   2.190020e+08      3.665500                17.755500    83.452000   \n",
              "std    5.774946e+02      2.629271                12.129604    13.224906   \n",
              "min    2.190010e+08      0.000000                 0.000000    40.000000   \n",
              "25%    2.190015e+08      2.000000                 5.000000    77.000000   \n",
              "50%    2.190020e+08      3.000000                18.000000    87.000000   \n",
              "75%    2.190025e+08      5.000000                28.000000    93.000000   \n",
              "max    2.190030e+08     10.000000                50.000000   100.000000   \n",
              "\n",
              "              aisc          iss           pe           se  total score  \n",
              "count  2000.000000  2000.000000  2000.000000  2000.000000  2000.000000  \n",
              "mean     81.336500    79.995000    81.277500    80.888000   406.949000  \n",
              "std      12.539453    12.777895    12.027087    11.637705    32.597956  \n",
              "min      50.000000    50.000000    50.000000    60.000000   282.000000  \n",
              "25%      71.000000    69.000000    72.000000    71.000000   387.000000  \n",
              "50%      83.000000    81.000000    83.000000    81.000000   408.000000  \n",
              "75%      92.000000    91.000000    91.000000    91.000000   428.000000  \n",
              "max     100.000000   100.000000    99.000000   100.000000   485.000000  "
            ]
          },
          "execution_count": 8,
          "metadata": {},
          "output_type": "execute_result"
        }
      ],
      "source": [
        "df.describe()"
      ]
    },
    {
      "cell_type": "code",
      "execution_count": null,
      "id": "8903fbda",
      "metadata": {
        "id": "8903fbda",
        "outputId": "c52d83cb-88cb-4040-ac2f-a46371324a6a"
      },
      "outputs": [
        {
          "data": {
            "text/html": [
              "<div>\n",
              "<style scoped>\n",
              "    .dataframe tbody tr th:only-of-type {\n",
              "        vertical-align: middle;\n",
              "    }\n",
              "\n",
              "    .dataframe tbody tr th {\n",
              "        vertical-align: top;\n",
              "    }\n",
              "\n",
              "    .dataframe thead th {\n",
              "        text-align: right;\n",
              "    }\n",
              "</style>\n",
              "<table border=\"1\" class=\"dataframe\">\n",
              "  <thead>\n",
              "    <tr style=\"text-align: right;\">\n",
              "      <th></th>\n",
              "      <th>absence_days</th>\n",
              "      <th>weekly_self_study_hours</th>\n",
              "      <th>dsml</th>\n",
              "      <th>aisc</th>\n",
              "      <th>iss</th>\n",
              "      <th>pe</th>\n",
              "      <th>se</th>\n",
              "      <th>total score</th>\n",
              "    </tr>\n",
              "  </thead>\n",
              "  <tbody>\n",
              "    <tr>\n",
              "      <th>count</th>\n",
              "      <td>2000.000000</td>\n",
              "      <td>2000.000000</td>\n",
              "      <td>2000.000000</td>\n",
              "      <td>2000.000000</td>\n",
              "      <td>2000.000000</td>\n",
              "      <td>2000.000000</td>\n",
              "      <td>2000.000000</td>\n",
              "      <td>2000.000000</td>\n",
              "    </tr>\n",
              "    <tr>\n",
              "      <th>mean</th>\n",
              "      <td>3.665500</td>\n",
              "      <td>17.755500</td>\n",
              "      <td>83.452000</td>\n",
              "      <td>81.336500</td>\n",
              "      <td>79.995000</td>\n",
              "      <td>81.277500</td>\n",
              "      <td>80.888000</td>\n",
              "      <td>406.949000</td>\n",
              "    </tr>\n",
              "    <tr>\n",
              "      <th>std</th>\n",
              "      <td>2.629271</td>\n",
              "      <td>12.129604</td>\n",
              "      <td>13.224906</td>\n",
              "      <td>12.539453</td>\n",
              "      <td>12.777895</td>\n",
              "      <td>12.027087</td>\n",
              "      <td>11.637705</td>\n",
              "      <td>32.597956</td>\n",
              "    </tr>\n",
              "    <tr>\n",
              "      <th>min</th>\n",
              "      <td>0.000000</td>\n",
              "      <td>0.000000</td>\n",
              "      <td>40.000000</td>\n",
              "      <td>50.000000</td>\n",
              "      <td>50.000000</td>\n",
              "      <td>50.000000</td>\n",
              "      <td>60.000000</td>\n",
              "      <td>282.000000</td>\n",
              "    </tr>\n",
              "    <tr>\n",
              "      <th>25%</th>\n",
              "      <td>2.000000</td>\n",
              "      <td>5.000000</td>\n",
              "      <td>77.000000</td>\n",
              "      <td>71.000000</td>\n",
              "      <td>69.000000</td>\n",
              "      <td>72.000000</td>\n",
              "      <td>71.000000</td>\n",
              "      <td>387.000000</td>\n",
              "    </tr>\n",
              "    <tr>\n",
              "      <th>50%</th>\n",
              "      <td>3.000000</td>\n",
              "      <td>18.000000</td>\n",
              "      <td>87.000000</td>\n",
              "      <td>83.000000</td>\n",
              "      <td>81.000000</td>\n",
              "      <td>83.000000</td>\n",
              "      <td>81.000000</td>\n",
              "      <td>408.000000</td>\n",
              "    </tr>\n",
              "    <tr>\n",
              "      <th>75%</th>\n",
              "      <td>5.000000</td>\n",
              "      <td>28.000000</td>\n",
              "      <td>93.000000</td>\n",
              "      <td>92.000000</td>\n",
              "      <td>91.000000</td>\n",
              "      <td>91.000000</td>\n",
              "      <td>91.000000</td>\n",
              "      <td>428.000000</td>\n",
              "    </tr>\n",
              "    <tr>\n",
              "      <th>max</th>\n",
              "      <td>10.000000</td>\n",
              "      <td>50.000000</td>\n",
              "      <td>100.000000</td>\n",
              "      <td>100.000000</td>\n",
              "      <td>100.000000</td>\n",
              "      <td>99.000000</td>\n",
              "      <td>100.000000</td>\n",
              "      <td>485.000000</td>\n",
              "    </tr>\n",
              "  </tbody>\n",
              "</table>\n",
              "</div>"
            ],
            "text/plain": [
              "       absence_days  weekly_self_study_hours         dsml         aisc  \\\n",
              "count   2000.000000              2000.000000  2000.000000  2000.000000   \n",
              "mean       3.665500                17.755500    83.452000    81.336500   \n",
              "std        2.629271                12.129604    13.224906    12.539453   \n",
              "min        0.000000                 0.000000    40.000000    50.000000   \n",
              "25%        2.000000                 5.000000    77.000000    71.000000   \n",
              "50%        3.000000                18.000000    87.000000    83.000000   \n",
              "75%        5.000000                28.000000    93.000000    92.000000   \n",
              "max       10.000000                50.000000   100.000000   100.000000   \n",
              "\n",
              "               iss           pe           se  total score  \n",
              "count  2000.000000  2000.000000  2000.000000  2000.000000  \n",
              "mean     79.995000    81.277500    80.888000   406.949000  \n",
              "std      12.777895    12.027087    11.637705    32.597956  \n",
              "min      50.000000    50.000000    60.000000   282.000000  \n",
              "25%      69.000000    72.000000    71.000000   387.000000  \n",
              "50%      81.000000    83.000000    81.000000   408.000000  \n",
              "75%      91.000000    91.000000    91.000000   428.000000  \n",
              "max     100.000000    99.000000   100.000000   485.000000  "
            ]
          },
          "execution_count": 9,
          "metadata": {},
          "output_type": "execute_result"
        }
      ],
      "source": [
        "df[['absence_days','weekly_self_study_hours','dsml','aisc','iss','pe','se','total score']].describe()"
      ]
    },
    {
      "cell_type": "markdown",
      "id": "b0f34f7e",
      "metadata": {
        "id": "b0f34f7e"
      },
      "source": [
        "# Exploratory DATA Analysis"
      ]
    },
    {
      "cell_type": "code",
      "execution_count": null,
      "id": "57e43ad8",
      "metadata": {
        "id": "57e43ad8",
        "outputId": "8ad2428b-1e25-4bce-e8d1-4e67d6e5b309"
      },
      "outputs": [
        {
          "data": {
            "text/plain": [
              "Index(['id', 'section', 'gender', 'part_time_job', 'absence_days',\n",
              "       'extracurricular_activities', 'weekly_self_study_hours', 'dsml', 'aisc',\n",
              "       'iss', 'pe', 'se', 'total score'],\n",
              "      dtype='object')"
            ]
          },
          "execution_count": 10,
          "metadata": {},
          "output_type": "execute_result"
        }
      ],
      "source": [
        "df.columns"
      ]
    },
    {
      "cell_type": "code",
      "execution_count": null,
      "id": "25bb8547",
      "metadata": {
        "id": "25bb8547",
        "outputId": "54f04f7d-a912-4c6e-9eeb-4828e012bb2a"
      },
      "outputs": [
        {
          "data": {
            "image/png": "[encoded data removed]",
            "text/plain": [
              "<Figure size 640x480 with 1 Axes>"
            ]
          },
          "metadata": {},
          "output_type": "display_data"
        }
      ],
      "source": [
        "mf=sns.countplot(x=\"gender\",data=df)\n",
        "for bars in mf.containers:\n",
        "    mf.bar_label(bars)"
      ]
    },
    {
      "cell_type": "markdown",
      "id": "df8a5123",
      "metadata": {
        "id": "df8a5123"
      },
      "source": [
        "males and females strength are equal"
      ]
    },
    {
      "cell_type": "code",
      "execution_count": null,
      "id": "8454d099",
      "metadata": {
        "id": "8454d099",
        "outputId": "969be87b-8723-4a1a-901b-0a25475fc61e"
      },
      "outputs": [
        {
          "data": {
            "text/plain": [
              "<Axes: xlabel='gender', ylabel='total score'>"
            ]
          },
          "execution_count": 12,
          "metadata": {},
          "output_type": "execute_result"
        },
        {
          "data": {
            "image/png": "[encoded data removed]",
            "text/plain": [
              "<Figure size 640x480 with 1 Axes>"
            ]
          },
          "metadata": {},
          "output_type": "display_data"
        }
      ],
      "source": [
        "mf_score = df.groupby(['gender'], as_index=False)['total score'].sum().sort_values(by='total score', ascending=False)\n",
        "sns.barplot(x = 'gender',y= 'total score' ,data = mf_score)"
      ]
    },
    {
      "cell_type": "markdown",
      "id": "8d04a5bf",
      "metadata": {
        "id": "8d04a5bf"
      },
      "source": [
        "total marks scored are identical"
      ]
    },
    {
      "cell_type": "code",
      "execution_count": null,
      "id": "e056dc11",
      "metadata": {
        "id": "e056dc11",
        "outputId": "70569311-0dc1-439f-aac7-0cfcda6a95fc"
      },
      "outputs": [
        {
          "data": {
            "image/png": "[encoded data removed]",
            "text/plain": [
              "<Figure size 1000x600 with 1 Axes>"
            ]
          },
          "metadata": {},
          "output_type": "display_data"
        }
      ],
      "source": [
        "section_counts = df['section'].value_counts()\n",
        "\n",
        "# Plotting section-wise distribution\n",
        "plt.figure(figsize=(10, 6))\n",
        "sns.barplot(x=section_counts.index, y=section_counts.values, palette='viridis')\n",
        "plt.title('Distribution of Students by Section')\n",
        "plt.xlabel('Section')\n",
        "plt.ylabel('Number of Students')\n",
        "plt.xticks(rotation=45)\n",
        "plt.show()"
      ]
    },
    {
      "cell_type": "code",
      "execution_count": null,
      "id": "c1d8fd49",
      "metadata": {
        "id": "c1d8fd49",
        "outputId": "8a7c1761-d2c9-4fd8-8107-fddbf686f922"
      },
      "outputs": [
        {
          "data": {
            "image/png": "[encoded data removed]",
            "text/plain": [
              "<Figure size 1200x800 with 1 Axes>"
            ]
          },
          "metadata": {},
          "output_type": "display_data"
        }
      ],
      "source": [
        "subject_columns = ['dsml', 'aisc', 'iss', 'pe', 'se']\n",
        "\n",
        "# Plotting subject-wise scores distribution\n",
        "plt.figure(figsize=(12, 8))\n",
        "for subject in subject_columns:\n",
        "    sns.histplot(df[subject], kde=True, bins=20, label=subject, alpha=0.5)\n",
        "plt.title('Distribution of Scores in Different Subjects')\n",
        "plt.xlabel('Score')\n",
        "plt.ylabel('Frequency')\n",
        "plt.legend()\n",
        "plt.show()"
      ]
    },
    {
      "cell_type": "markdown",
      "id": "e287bcf0",
      "metadata": {
        "id": "e287bcf0"
      },
      "source": [
        "dsml has both lowest scores as well as highest scores from all the sections"
      ]
    },
    {
      "cell_type": "code",
      "execution_count": null,
      "id": "c3f3898a",
      "metadata": {
        "id": "c3f3898a",
        "outputId": "76303e80-cd00-4767-d70e-9ae7fa071a7a"
      },
      "outputs": [
        {
          "data": {
            "image/png": "[encoded data removed]",
            "text/plain": [
              "<Figure size 1000x600 with 1 Axes>"
            ]
          },
          "metadata": {},
          "output_type": "display_data"
        }
      ],
      "source": [
        "# Box plot of total scores by section\n",
        "plt.figure(figsize=(10, 6))\n",
        "sns.boxplot(x='section', y='total score', data=df, palette='Set2')\n",
        "plt.title('Total Scores Distribution by Section')\n",
        "plt.xlabel('Section')\n",
        "plt.ylabel('Total Score')\n",
        "plt.show()"
      ]
    },
    {
      "cell_type": "markdown",
      "id": "d9ce7a57",
      "metadata": {
        "id": "d9ce7a57"
      },
      "source": [
        "this graph suggests that the total scores are distributed in a similar way across all sections\n",
        "There are very few outliers, which means that most of the data points are within the expected range."
      ]
    },
    {
      "cell_type": "code",
      "execution_count": null,
      "id": "44b2a547",
      "metadata": {
        "id": "44b2a547",
        "outputId": "c760747f-3ba9-4bbe-cb14-9eeab4b78979"
      },
      "outputs": [
        {
          "data": {
            "image/png": "[encoded data removed]",
            "text/plain": [
              "<Figure size 800x600 with 2 Axes>"
            ]
          },
          "metadata": {},
          "output_type": "display_data"
        }
      ],
      "source": [
        "# Correlation matrix heatmap of subject scores\n",
        "subject_corr = df[['dsml', 'aisc', 'iss', 'pe', 'se']].corr()\n",
        "plt.figure(figsize=(8, 6))\n",
        "sns.heatmap(subject_corr, annot=True, cmap='coolwarm', fmt=\".2f\")\n",
        "plt.title('Correlation Matrix of Subject Scores')\n",
        "plt.show()"
      ]
    },
    {
      "cell_type": "markdown",
      "id": "39b11d24",
      "metadata": {
        "id": "39b11d24"
      },
      "source": [
        "there is no relationship between marks of 1 subject affecting any other subject"
      ]
    },
    {
      "cell_type": "code",
      "execution_count": null,
      "id": "d78ca3d9",
      "metadata": {
        "id": "d78ca3d9",
        "outputId": "48b864a8-93b6-41cc-baea-7360aa3b475f"
      },
      "outputs": [
        {
          "name": "stdout",
          "output_type": "stream",
          "text": [
            "ANOVA Results:\n",
            "F-statistic: 0.4089538379982388\n",
            "p-value: 0.8428479184990041\n",
            "The p-value is greater than or equal to 0.05 , so we fail to reject the null hypothesis.\n",
            "There are no significant differences in the mean scores among different sections.\n"
          ]
        }
      ],
      "source": [
        "from scipy.stats import f_oneway\n",
        "\n",
        "# Extract scores for each section\n",
        "section_scores = []\n",
        "\n",
        "for section in df['section'].unique():\n",
        "    section_scores.append(df[df['section'] == section]['total score'])\n",
        "\n",
        "# Perform ANOVA test\n",
        "f_statistic, p_value = f_oneway(*section_scores)\n",
        "\n",
        "# Print results\n",
        "print(\"ANOVA Results:\")\n",
        "print(\"F-statistic:\", f_statistic)\n",
        "print(\"p-value:\", p_value)\n",
        "\n",
        "# Interpret results\n",
        "alpha = 0.05\n",
        "if p_value < alpha:\n",
        "    print(\"The p-value is less than\", alpha, \", so we reject the null hypothesis.\")\n",
        "    print(\"There are significant differences in the mean scores among different sections.\")\n",
        "else:\n",
        "    print(\"The p-value is greater than or equal to\", alpha, \", so we fail to reject the null hypothesis.\")\n",
        "    print(\"There are no significant differences in the mean scores among different sections.\")\n"
      ]
    },
    {
      "cell_type": "markdown",
      "id": "8110c805",
      "metadata": {
        "id": "8110c805"
      },
      "source": [
        "based on this analysis, we do not have reason to believe that the marks of students vary significantly due to section differences."
      ]
    },
    {
      "cell_type": "markdown",
      "id": "cb25d04f",
      "metadata": {
        "id": "cb25d04f"
      },
      "source": [
        "## model"
      ]
    },
    {
      "cell_type": "code",
      "execution_count": null,
      "id": "4909cf67",
      "metadata": {
        "id": "4909cf67"
      },
      "outputs": [],
      "source": [
        "from sklearn.model_selection import train_test_split\n",
        "from sklearn.tree import DecisionTreeClassifier\n",
        "from sklearn.metrics import accuracy_score, classification_report\n"
      ]
    },
    {
      "cell_type": "code",
      "execution_count": null,
      "id": "6144bd1a",
      "metadata": {
        "id": "6144bd1a",
        "outputId": "c5b99fdc-3035-49be-81c5-1f7245033555"
      },
      "outputs": [
        {
          "data": {
            "text/html": [
              "<div>\n",
              "<style scoped>\n",
              "    .dataframe tbody tr th:only-of-type {\n",
              "        vertical-align: middle;\n",
              "    }\n",
              "\n",
              "    .dataframe tbody tr th {\n",
              "        vertical-align: top;\n",
              "    }\n",
              "\n",
              "    .dataframe thead th {\n",
              "        text-align: right;\n",
              "    }\n",
              "</style>\n",
              "<table border=\"1\" class=\"dataframe\">\n",
              "  <thead>\n",
              "    <tr style=\"text-align: right;\">\n",
              "      <th></th>\n",
              "      <th>id</th>\n",
              "      <th>section</th>\n",
              "      <th>gender</th>\n",
              "      <th>part_time_job</th>\n",
              "      <th>absence_days</th>\n",
              "      <th>extracurricular_activities</th>\n",
              "      <th>weekly_self_study_hours</th>\n",
              "      <th>dsml</th>\n",
              "      <th>aisc</th>\n",
              "      <th>iss</th>\n",
              "      <th>pe</th>\n",
              "      <th>se</th>\n",
              "      <th>total score</th>\n",
              "      <th>grade</th>\n",
              "    </tr>\n",
              "  </thead>\n",
              "  <tbody>\n",
              "    <tr>\n",
              "      <th>0</th>\n",
              "      <td>219001001</td>\n",
              "      <td>E</td>\n",
              "      <td>male</td>\n",
              "      <td>False</td>\n",
              "      <td>3</td>\n",
              "      <td>False</td>\n",
              "      <td>27</td>\n",
              "      <td>73</td>\n",
              "      <td>93</td>\n",
              "      <td>97</td>\n",
              "      <td>80</td>\n",
              "      <td>87</td>\n",
              "      <td>430</td>\n",
              "      <td>B</td>\n",
              "    </tr>\n",
              "    <tr>\n",
              "      <th>1</th>\n",
              "      <td>219001002</td>\n",
              "      <td>B</td>\n",
              "      <td>female</td>\n",
              "      <td>False</td>\n",
              "      <td>2</td>\n",
              "      <td>False</td>\n",
              "      <td>47</td>\n",
              "      <td>90</td>\n",
              "      <td>96</td>\n",
              "      <td>100</td>\n",
              "      <td>88</td>\n",
              "      <td>90</td>\n",
              "      <td>464</td>\n",
              "      <td>B</td>\n",
              "    </tr>\n",
              "    <tr>\n",
              "      <th>2</th>\n",
              "      <td>219001003</td>\n",
              "      <td>F</td>\n",
              "      <td>female</td>\n",
              "      <td>False</td>\n",
              "      <td>9</td>\n",
              "      <td>True</td>\n",
              "      <td>13</td>\n",
              "      <td>81</td>\n",
              "      <td>95</td>\n",
              "      <td>96</td>\n",
              "      <td>77</td>\n",
              "      <td>94</td>\n",
              "      <td>443</td>\n",
              "      <td>B</td>\n",
              "    </tr>\n",
              "    <tr>\n",
              "      <th>3</th>\n",
              "      <td>219001004</td>\n",
              "      <td>A</td>\n",
              "      <td>female</td>\n",
              "      <td>False</td>\n",
              "      <td>5</td>\n",
              "      <td>False</td>\n",
              "      <td>3</td>\n",
              "      <td>71</td>\n",
              "      <td>88</td>\n",
              "      <td>80</td>\n",
              "      <td>63</td>\n",
              "      <td>86</td>\n",
              "      <td>388</td>\n",
              "      <td>D</td>\n",
              "    </tr>\n",
              "    <tr>\n",
              "      <th>4</th>\n",
              "      <td>219001005</td>\n",
              "      <td>F</td>\n",
              "      <td>male</td>\n",
              "      <td>False</td>\n",
              "      <td>5</td>\n",
              "      <td>False</td>\n",
              "      <td>10</td>\n",
              "      <td>84</td>\n",
              "      <td>65</td>\n",
              "      <td>65</td>\n",
              "      <td>74</td>\n",
              "      <td>76</td>\n",
              "      <td>364</td>\n",
              "      <td>D</td>\n",
              "    </tr>\n",
              "    <tr>\n",
              "      <th>...</th>\n",
              "      <td>...</td>\n",
              "      <td>...</td>\n",
              "      <td>...</td>\n",
              "      <td>...</td>\n",
              "      <td>...</td>\n",
              "      <td>...</td>\n",
              "      <td>...</td>\n",
              "      <td>...</td>\n",
              "      <td>...</td>\n",
              "      <td>...</td>\n",
              "      <td>...</td>\n",
              "      <td>...</td>\n",
              "      <td>...</td>\n",
              "      <td>...</td>\n",
              "    </tr>\n",
              "    <tr>\n",
              "      <th>1995</th>\n",
              "      <td>219002996</td>\n",
              "      <td>C</td>\n",
              "      <td>male</td>\n",
              "      <td>False</td>\n",
              "      <td>2</td>\n",
              "      <td>False</td>\n",
              "      <td>30</td>\n",
              "      <td>83</td>\n",
              "      <td>84</td>\n",
              "      <td>73</td>\n",
              "      <td>84</td>\n",
              "      <td>82</td>\n",
              "      <td>406</td>\n",
              "      <td>C</td>\n",
              "    </tr>\n",
              "    <tr>\n",
              "      <th>1996</th>\n",
              "      <td>219002997</td>\n",
              "      <td>B</td>\n",
              "      <td>male</td>\n",
              "      <td>False</td>\n",
              "      <td>2</td>\n",
              "      <td>False</td>\n",
              "      <td>20</td>\n",
              "      <td>89</td>\n",
              "      <td>73</td>\n",
              "      <td>80</td>\n",
              "      <td>67</td>\n",
              "      <td>73</td>\n",
              "      <td>382</td>\n",
              "      <td>D</td>\n",
              "    </tr>\n",
              "    <tr>\n",
              "      <th>1997</th>\n",
              "      <td>219002998</td>\n",
              "      <td>B</td>\n",
              "      <td>female</td>\n",
              "      <td>False</td>\n",
              "      <td>5</td>\n",
              "      <td>False</td>\n",
              "      <td>14</td>\n",
              "      <td>97</td>\n",
              "      <td>63</td>\n",
              "      <td>93</td>\n",
              "      <td>94</td>\n",
              "      <td>78</td>\n",
              "      <td>425</td>\n",
              "      <td>B</td>\n",
              "    </tr>\n",
              "    <tr>\n",
              "      <th>1998</th>\n",
              "      <td>219002999</td>\n",
              "      <td>C</td>\n",
              "      <td>female</td>\n",
              "      <td>True</td>\n",
              "      <td>10</td>\n",
              "      <td>True</td>\n",
              "      <td>5</td>\n",
              "      <td>51</td>\n",
              "      <td>72</td>\n",
              "      <td>89</td>\n",
              "      <td>88</td>\n",
              "      <td>75</td>\n",
              "      <td>375</td>\n",
              "      <td>D</td>\n",
              "    </tr>\n",
              "    <tr>\n",
              "      <th>1999</th>\n",
              "      <td>219003000</td>\n",
              "      <td>D</td>\n",
              "      <td>female</td>\n",
              "      <td>False</td>\n",
              "      <td>5</td>\n",
              "      <td>False</td>\n",
              "      <td>27</td>\n",
              "      <td>82</td>\n",
              "      <td>91</td>\n",
              "      <td>69</td>\n",
              "      <td>93</td>\n",
              "      <td>100</td>\n",
              "      <td>435</td>\n",
              "      <td>B</td>\n",
              "    </tr>\n",
              "  </tbody>\n",
              "</table>\n",
              "<p>2000 rows × 14 columns</p>\n",
              "</div>"
            ],
            "text/plain": [
              "             id section  gender  part_time_job  absence_days  \\\n",
              "0     219001001       E    male          False             3   \n",
              "1     219001002       B  female          False             2   \n",
              "2     219001003       F  female          False             9   \n",
              "3     219001004       A  female          False             5   \n",
              "4     219001005       F    male          False             5   \n",
              "...         ...     ...     ...            ...           ...   \n",
              "1995  219002996       C    male          False             2   \n",
              "1996  219002997       B    male          False             2   \n",
              "1997  219002998       B  female          False             5   \n",
              "1998  219002999       C  female           True            10   \n",
              "1999  219003000       D  female          False             5   \n",
              "\n",
              "      extracurricular_activities  weekly_self_study_hours  dsml  aisc  iss  \\\n",
              "0                          False                       27    73    93   97   \n",
              "1                          False                       47    90    96  100   \n",
              "2                           True                       13    81    95   96   \n",
              "3                          False                        3    71    88   80   \n",
              "4                          False                       10    84    65   65   \n",
              "...                          ...                      ...   ...   ...  ...   \n",
              "1995                       False                       30    83    84   73   \n",
              "1996                       False                       20    89    73   80   \n",
              "1997                       False                       14    97    63   93   \n",
              "1998                        True                        5    51    72   89   \n",
              "1999                       False                       27    82    91   69   \n",
              "\n",
              "      pe   se  total score grade  \n",
              "0     80   87          430     B  \n",
              "1     88   90          464     B  \n",
              "2     77   94          443     B  \n",
              "3     63   86          388     D  \n",
              "4     74   76          364     D  \n",
              "...   ..  ...          ...   ...  \n",
              "1995  84   82          406     C  \n",
              "1996  67   73          382     D  \n",
              "1997  94   78          425     B  \n",
              "1998  88   75          375     D  \n",
              "1999  93  100          435     B  \n",
              "\n",
              "[2000 rows x 14 columns]"
            ]
          },
          "execution_count": 19,
          "metadata": {},
          "output_type": "execute_result"
        }
      ],
      "source": [
        "def assign_grade(score):\n",
        "    if score >= 480:\n",
        "        return 'A'\n",
        "    elif score >= 420:\n",
        "        return 'B'\n",
        "    elif score >= 390:\n",
        "        return 'C'\n",
        "    elif score >= 340:\n",
        "        return 'D'\n",
        "    else:\n",
        "        return 'F'\n",
        "\n",
        "# Create a new column 'grade' and assign grades based on total score\n",
        "df['grade'] = df['total score'].apply(assign_grade)\n",
        "df"
      ]
    },
    {
      "cell_type": "code",
      "execution_count": null,
      "id": "c6acf512",
      "metadata": {
        "id": "c6acf512"
      },
      "outputs": [],
      "source": [
        "X = df[['dsml', 'aisc', 'iss', 'pe', 'se']]\n",
        "y = df['grade']\n",
        "X_train, X_test, y_train, y_test = train_test_split(X, y, test_size=0.2, random_state=42)"
      ]
    },
    {
      "cell_type": "code",
      "execution_count": null,
      "id": "1b5bd537",
      "metadata": {
        "id": "1b5bd537"
      },
      "outputs": [],
      "source": [
        "# Initialize the Decision Tree Classifier\n",
        "clf = DecisionTreeClassifier(random_state=42)\n",
        "\n",
        "# Train the classifier\n",
        "clf.fit(X_train, y_train)\n",
        "\n",
        "# Predict grades for the test set\n",
        "y_pred = clf.predict(X_test)"
      ]
    },
    {
      "cell_type": "code",
      "execution_count": null,
      "id": "5e3a6b51",
      "metadata": {
        "id": "5e3a6b51",
        "outputId": "389f33e1-66be-4bb3-8d72-bbbaa25098fc"
      },
      "outputs": [
        {
          "name": "stdout",
          "output_type": "stream",
          "text": [
            "Accuracy: 0.77\n",
            "\n",
            "Classification Report:\n",
            "              precision    recall  f1-score   support\n",
            "\n",
            "           A       0.00      0.00      0.00         2\n",
            "           B       0.83      0.88      0.86       149\n",
            "           C       0.73      0.67      0.70       139\n",
            "           D       0.73      0.79      0.76        96\n",
            "           F       0.73      0.57      0.64        14\n",
            "\n",
            "    accuracy                           0.77       400\n",
            "   macro avg       0.60      0.58      0.59       400\n",
            "weighted avg       0.76      0.77      0.77       400\n",
            "\n"
          ]
        },
        {
          "name": "stderr",
          "output_type": "stream",
          "text": [
            "E:\\Anaconda\\Lib\\site-packages\\sklearn\\metrics\\_classification.py:1469: UndefinedMetricWarning: Precision and F-score are ill-defined and being set to 0.0 in labels with no predicted samples. Use `zero_division` parameter to control this behavior.\n",
            "  _warn_prf(average, modifier, msg_start, len(result))\n",
            "E:\\Anaconda\\Lib\\site-packages\\sklearn\\metrics\\_classification.py:1469: UndefinedMetricWarning: Precision and F-score are ill-defined and being set to 0.0 in labels with no predicted samples. Use `zero_division` parameter to control this behavior.\n",
            "  _warn_prf(average, modifier, msg_start, len(result))\n",
            "E:\\Anaconda\\Lib\\site-packages\\sklearn\\metrics\\_classification.py:1469: UndefinedMetricWarning: Precision and F-score are ill-defined and being set to 0.0 in labels with no predicted samples. Use `zero_division` parameter to control this behavior.\n",
            "  _warn_prf(average, modifier, msg_start, len(result))\n"
          ]
        }
      ],
      "source": [
        "# Evaluate the model\n",
        "accuracy = accuracy_score(y_test, y_pred)\n",
        "print(\"Accuracy:\", accuracy)\n",
        "\n",
        "# Display classification report\n",
        "print(\"\\nClassification Report:\")\n",
        "print(classification_report(y_test, y_pred))"
      ]
    },
    {
      "cell_type": "code",
      "execution_count": null,
      "id": "5ae1f188",
      "metadata": {
        "id": "5ae1f188"
      },
      "outputs": [],
      "source": []
    }
  ],
  "metadata": {
    "kernelspec": {
      "display_name": "Python 3 (ipykernel)",
      "language": "python",
      "name": "python3"
    },
    "language_info": {
      "codemirror_mode": {
        "name": "ipython",
        "version": 3
      },
      "file_extension": ".py",
      "mimetype": "text/x-python",
      "name": "python",
      "nbconvert_exporter": "python",
      "pygments_lexer": "ipython3",
      "version": "3.11.5"
    },
    "colab": {
      "provenance": [],
      "include_colab_link": true
    }
  },
  "nbformat": 4,
  "nbformat_minor": 5
}